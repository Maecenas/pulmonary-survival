{
 "cells": [
  {
   "cell_type": "code",
   "execution_count": 1,
   "metadata": {},
   "outputs": [],
   "source": [
    "import pandas as pd\n",
    "import numpy as np\n",
    "import csv\n",
    "import statsmodels.api as sm\n",
    "\n",
    "df = pd.read_csv('dataset_declassify_onehot.csv', encoding='utf-8')"
   ]
  },
  {
   "cell_type": "code",
   "execution_count": 2,
   "metadata": {},
   "outputs": [],
   "source": [
    "# filter(any(), dfo.columns.values)\n",
    "# [ col (if col.startswith(enc) for enc in enc_columns) for col in dfo.columns.values]\n",
    "include_columns = [\n",
    "    'Primary Site',\n",
    "    'Histologic Type 2',\n",
    "    'Grade',\n",
    "    'CS tumor size (2004+)',\n",
    "    'CS extension (2004+)',\n",
    "    'CS mets at dx (2004+)',\n",
    "    'Age at diagnosis',\n",
    "    'Lung - Pleural/Elastic Layer Invasion (PL) by H and E or Elastic Stain',\n",
    "    'Lung - Separate Tumor Nodules - Ipsilateral Lung',\n",
    "    'Lung - Surgery to Primary Site (1988-2015)',\n",
    "    'Lung - Surgery to Other Regional/Distant Sites (1998+)',\n",
    "    'LCCS',\n",
    "    'Survival months',\n",
    "    'OS'\n",
    "]\n",
    "\n",
    "onehot_encoded_columns = []\n",
    "for col in df.columns.values:\n",
    "    for inc in include_columns:\n",
    "        if col.startswith(inc):\n",
    "            onehot_encoded_columns.append(col)\n",
    "            break"
   ]
  },
  {
   "cell_type": "code",
   "execution_count": 3,
   "metadata": {},
   "outputs": [],
   "source": [
    "def extract_input(data=df):\n",
    "    data.head()\n",
    "    y = np.array(data[['LCCS']])\n",
    "    X = data.drop(['LCCS', 'Survival months', 'OS'], axis=1)\n",
    "    return X, y"
   ]
  },
  {
   "cell_type": "code",
   "execution_count": 6,
   "metadata": {},
   "outputs": [],
   "source": [
    "def stepwise_selection(X, y, \n",
    "                       initial_list={}, \n",
    "                       threshold_in=0.01, \n",
    "                       threshold_out = 0.05, \n",
    "                       verbose=True):\n",
    "    \"\"\"\n",
    "    Perform a forward-backward feature selection \n",
    "    based on p-value from statsmodels.api.OLS\n",
    "\n",
    "    Arguments:\n",
    "        X - pandas.DataFrame with candidate features\n",
    "        y - list-like with the target\n",
    "        initial_list - list of features to start with (column names of X)\n",
    "        threshold_in - include a feature if its p-value < threshold_in\n",
    "        threshold_out - exclude a feature if its p-value > threshold_out\n",
    "        verbose - whether to print the sequence of inclusions and exclusions\n",
    "    Returns: list of selected features \n",
    "    Always set threshold_in < threshold_out to avoid infinite looping.\n",
    "    See https://en.wikipedia.org/wiki/Stepwise_regression for the details\n",
    "    \"\"\"\n",
    "    included = dict(initial_list)\n",
    "    while True:\n",
    "        changed=False\n",
    "        # forward step\n",
    "        excluded = list(set(X.columns)-set(included.keys()))\n",
    "        new_pval = pd.Series(index=excluded)\n",
    "        for new_column in excluded:\n",
    "            model = sm.OLS(y, sm.add_constant(pd.DataFrame(X[list(included.keys())+[new_column]]))).fit()\n",
    "            new_pval[new_column] = model.pvalues[new_column]\n",
    "        best_pval = new_pval.min()\n",
    "        if best_pval < threshold_in:\n",
    "            best_feature = new_pval.idxmin()\n",
    "            included[best_feature]=best_pval\n",
    "            changed=True\n",
    "            if verbose:\n",
    "                print('Add  {:30} with p-value {:.6}'.format(best_feature, best_pval))\n",
    "\n",
    "        # backward step\n",
    "        model = sm.OLS(y, sm.add_constant(pd.DataFrame(X[list(included.keys())]))).fit()\n",
    "        # use all coefs except intercept\n",
    "        pvalues = model.pvalues.iloc[1:]\n",
    "        worst_pval = pvalues.max() # null if pvalues is empty\n",
    "        if worst_pval > threshold_out:\n",
    "            changed=True\n",
    "            worst_feature = pvalues.argmax()\n",
    "            del included[worst_feature]\n",
    "            if verbose:\n",
    "                print('Drop {:30} with p-value {:.6}'.format(worst_feature, worst_pval))\n",
    "        if not changed:\n",
    "            break\n",
    "    return included"
   ]
  },
  {
   "cell_type": "code",
   "execution_count": 5,
   "metadata": {},
   "outputs": [
    {
     "name": "stdout",
     "output_type": "stream",
     "text": [
      "Add  CS tumor size (2004+)          with p-value 1.08985e-109\n",
      "Add  CS mets at dx (2004+)=0        with p-value 1.40825e-71\n",
      "Add  CS extension (2004+)=100       with p-value 3.24128e-36\n",
      "Add  Grade=well                     with p-value 1.38944e-26\n",
      "Add  Lung - Surgery to Primary Site (1988-2015)=None with p-value 7.31406e-19\n",
      "Add  Grade=Moderately               with p-value 4.39514e-14\n",
      "Add  Lung - Pleural/Elastic Layer Invasion (PL) by H and E or Elastic Stain=PL3 with p-value 1.97039e-12\n",
      "Add  Age at diagnosis               with p-value 4.50768e-12\n",
      "Add  Lung - Surgery to Primary Site (1988-2015)=peumonectomy with p-value 2.44321e-13\n",
      "Add  Lung - Separate Tumor Nodules - Ipsilateral Lung=No separate tumor nodules noted with p-value 2.05681e-08\n",
      "Add  CS mets at dx (2004+)=40       with p-value 2.66277e-09\n",
      "Add  CS extension (2004+)=740       with p-value 1.6774e-05\n",
      "Add  CS extension (2004+)=465       with p-value 3.78931e-05\n",
      "Add  CS extension (2004+)=700       with p-value 6.35264e-05\n",
      "Add  Lung - Surgery to Other Regional/Distant Sites (1998+)=None with p-value 0.000138198\n",
      "Add  CS extension (2004+)=540       with p-value 0.00026361\n",
      "Add  CS extension (2004+)=610       with p-value 0.00182755\n",
      "Add  CS extension (2004+)=590       with p-value 0.00302912\n",
      "Add  Primary Site=341               with p-value 0.00639125\n",
      "resulting features:\n",
      "{'CS tumor size (2004+)': 1.089849000585071e-109, 'CS mets at dx (2004+)=0': 1.408249063725481e-71, 'CS extension (2004+)=100': 3.2412752835837825e-36, 'Grade=well': 1.3894371956147322e-26, 'Lung - Surgery to Primary Site (1988-2015)=None': 7.314064422452214e-19, 'Grade=Moderately': 4.3951371658854436e-14, 'Lung - Pleural/Elastic Layer Invasion (PL) by H and E or Elastic Stain=PL3': 1.9703853778791065e-12, 'Age at diagnosis': 4.507682601742943e-12, 'Lung - Surgery to Primary Site (1988-2015)=peumonectomy': 2.443205647476097e-13, 'Lung - Separate Tumor Nodules - Ipsilateral Lung=No\\xa0separate\\xa0tumor\\xa0nodules\\xa0noted': 2.0568090177033153e-08, 'CS mets at dx (2004+)=40': 2.662768605263347e-09, 'CS extension (2004+)=740': 1.6774013023005345e-05, 'CS extension (2004+)=465': 3.789308296177412e-05, 'CS extension (2004+)=700': 6.352643920847357e-05, 'Lung - Surgery to Other Regional/Distant Sites (1998+)=None': 0.00013819780957959944, 'CS extension (2004+)=540': 0.00026360964673686777, 'CS extension (2004+)=610': 0.001827546934779659, 'CS extension (2004+)=590': 0.0030291207047569986, 'Primary Site=341': 0.00639125195352544}\n"
     ]
    }
   ],
   "source": [
    "X, y = extract_input(df)\n",
    "stepwise_results = stepwise_selection(X, y)\n",
    "\n",
    "print('resulting features:')\n",
    "print(stepwise_results)"
   ]
  },
  {
   "cell_type": "code",
   "execution_count": 6,
   "metadata": {},
   "outputs": [],
   "source": [
    "def dict_to_csv(my_dict, filename='stepwise_results.csv'):\n",
    "    try:\n",
    "        with open(filename, 'w') as csvfile:\n",
    "            writer = csv.writer(csvfile)\n",
    "            writer.writerow(['feature','p_value'])\n",
    "            for data in my_dict.items():\n",
    "                writer.writerow(data)\n",
    "    except IOError as e:\n",
    "        print(\"I/O error: {}\".format(e))"
   ]
  },
  {
   "cell_type": "code",
   "execution_count": 7,
   "metadata": {},
   "outputs": [],
   "source": [
    "dict_to_csv(stepwise_results)"
   ]
  }
 ],
 "metadata": {
  "kernelspec": {
   "display_name": "Python 3",
   "language": "python",
   "name": "python3"
  },
  "language_info": {
   "codemirror_mode": {
    "name": "ipython",
    "version": 3
   },
   "file_extension": ".py",
   "mimetype": "text/x-python",
   "name": "python",
   "nbconvert_exporter": "python",
   "pygments_lexer": "ipython3",
   "version": "3.7.0"
  }
 },
 "nbformat": 4,
 "nbformat_minor": 2
}
